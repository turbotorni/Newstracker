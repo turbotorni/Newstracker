{
 "cells": [
  {
   "cell_type": "code",
   "execution_count": 1,
   "id": "da051d4f",
   "metadata": {},
   "outputs": [],
   "source": [
    "import import_ipynb\n",
    "from WebScraper import search_news, extract_article_text\n",
    "from LLM_FinanceNews_Sentiment_Analyzer import get_sentiment_analyzer, analyze_sentiment\n",
    "from LLM_Summarizer import get_summarizer, summarize_with_led"
   ]
  },
  {
   "cell_type": "code",
   "execution_count": null,
   "id": "80cac3f1",
   "metadata": {},
   "outputs": [
    {
     "name": "stdout",
     "output_type": "stream",
     "text": [
      "<Response [200]>\n",
      "['https://economictimes.indiatimes.com/news/international/us/nvidia-stock-price-target-2025-morgan-stanley-just-boosted-nvidias-target-heres-why-blackwell-chips-are-game-changers/articleshow/123044159.cms', 'https://www.etfdailynews.com/2025/08/01/top-automotive-stocks-to-research-july-30th/']\n"
     ]
    },
    {
     "name": "stderr",
     "output_type": "stream",
     "text": [
      "Device set to use cpu\n"
     ]
    },
    {
     "name": "stdout",
     "output_type": "stream",
     "text": [
      "Morgan Stanley Raises Nvidia Price Target on AI Demand Surge\n",
      "\n",
      "Blackwell GPUs Drive Record Demand Across Enterprise and Cloud Markets\n",
      "\n",
      "Live Events\n",
      "\n",
      "Nvidia Supply Chain Set to Improve in Second Half of 2025\n",
      "\n",
      "Blackwell Could Represent 80% of Nvidia’s High-End GPU Shipments\n",
      "\n",
      "Blackwell Delivers 40x Performance Jump Over Hopper\n",
      "\n",
      "FAQs\n",
      "\n",
      "\n",
      "\n",
      "\n",
      "\n",
      "(You can now subscribe to our\n",
      "\n",
      "(You can now subscribe to our Economic Times WhatsApp channel\n",
      "\n",
      "Wall Street’s confidence in Nvidia just hit a new level, and it's all because of the AI giant'sas enterprise and cloud players are shifting from older chips while locking in forward capacity, as per The Street report.Morgan Stanley has raised its 12-month price target for Nvidia () to, up from $170, reaffirming the chipmaker as its top stock pick in semiconductors, according to the report.\"Exceptional demand\" is how Morgan Stanley analystdescribed the surge in interest for Nvidia’s Blackwell architecture, where demand is already outpacing supply, as per The Street.Moore’s team, as Morgan Stanley raised Nvidia’s earnings multiple from 28x to 33x, applying it to Nvidia’s mid-year earnings estimate of $6.02 per share, according to the report. That simple shift in math is what helped lock in the $200 target, while underscoring Nvidia’s position as Morgan Stanley’s top chip stock play, as reported by The Street.But this isn’t just about numbers on a spreadsheet. Moore points to growing demand from big customers, from hyperscalers and large enterprise buyers, who are investing in infrastructure faster than anyone expected, according to the report. That surge is being driven by the need to support both inference and large-model AI workloads, as per The Street.ALSO READ: Texas AI centers guzzle 463 million gallons, now residents are asked to cut back on showers While Nvidia is still facing supply constraints, Moore expects that to improve in the second half of this year, as reported by The Street. As production and logistics catch up, he says Nvidia could see a major boost in output and earnings, according to The Street report.He calls it “convex earnings leverage.” In simple terms, if Nvidia keeps executing, its profits could start to climb at a much faster rate, as per the report.Morgan Stanley's reaffirmation of an Overweight rating comes as Nvidia’s Blackwell GPUs have been performing well. TrendForce data projected that Blackwell could potentially represent almost 80% of Nvidia’s high-end GPU shipments this year, as reported by The Street.This means it would be a massive ramp beginning in the second quarter and continuing through the close of the year, according to the report. It would be a huge swing in terms of product mix, while underscoring just how fast adoption is moving, as reported by The Street.ALSO READ: Trump’s 25% tariff on Indian goods could make these everyday items shockingly expensive in the US While the AI chipmaker giant said that Blackwell offers a 40x jump in AI training and inference performance compared to Hopper, according to the report. Nvidia also said that Blackwell chip sales have outpaced Hopper’s peak, as per The Street.Because of soaring demand for Nvidia’s Blackwell AI chips and an improved earnings outlook.Nvidia says Blackwell offers a 40x improvement over its predecessor, Hopper.\n",
      "Tesla, NVIDIA, Teradyne, Micron Technology, and Taiwan Semiconductor Manufacturing are the five Automotive stocks to watch today, according to MarketBeat’s stock screener tool. Automotive stocks are equity shares of companies involved in the design, manufacture, sale and servicing of motor vehicles and their components, encompassing traditional automakers, parts suppliers and emerging electric-vehicle manufacturers. Their performance is driven by factors such as consumer demand, technological innovation (e.g. electrification and autonomous driving), raw-material costs, supply-chain dynamics and regulatory trends. These companies had the highest dollar trading volume of any Automotive stocks within the last several days.\n",
      "\n",
      "Get alerts:\n",
      "\n",
      "Tesla (TSLA)\n",
      "\n",
      "Tesla, Inc. designs, develops, manufactures, leases, and sells electric vehicles, and energy generation and storage systems in the United States, China, and internationally. The company operates in two segments, Automotive, and Energy Generation and Storage. The Automotive segment offers electric vehicles, as well as sells automotive regulatory credits; and non-warranty after-sales vehicle, used vehicles, body shop and parts, supercharging, retail merchandise, and vehicle insurance services.\n",
      "\n",
      "Shares of NASDAQ:TSLA traded down $3.07 during midday trading on Wednesday, reaching $318.13. 37,738,859 shares of the company’s stock were exchanged, compared to its average volume of 107,876,719. The company has a debt-to-equity ratio of 0.07, a quick ratio of 1.55 and a current ratio of 2.04. The company’s 50 day simple moving average is $323.92 and its two-hundred day simple moving average is $313.10. The firm has a market capitalization of $1.03 trillion, a PE ratio of 183.78, a price-to-earnings-growth ratio of 11.13 and a beta of 2.39. Tesla has a 12 month low of $182.00 and a 12 month high of $488.54.\n",
      "\n",
      "Read Our Latest Research Report on TSLA\n",
      "\n",
      "NVIDIA (NVDA)\n",
      "\n",
      "NVIDIA Corporation provides graphics and compute and networking solutions in the United States, Taiwan, China, Hong Kong, and internationally. The Graphics segment offers GeForce GPUs for gaming and PCs, the GeForce NOW game streaming service and related infrastructure, and solutions for gaming platforms; Quadro/NVIDIA RTX GPUs for enterprise workstation graphics; virtual GPU or vGPU software for cloud-based visual and virtual computing; automotive platforms for infotainment systems; and Omniverse software for building and operating metaverse and 3D internet applications.\n",
      "\n",
      "Shares of NASDAQ:NVDA traded up $3.42 on Wednesday, hitting $178.93. The stock had a trading volume of 66,466,416 shares, compared to its average volume of 248,544,063. The company has a debt-to-equity ratio of 0.10, a quick ratio of 2.96 and a current ratio of 3.39. The company has a market capitalization of $4.37 trillion, a price-to-earnings ratio of 57.72, a price-to-earnings-growth ratio of 1.56 and a beta of 2.13. NVIDIA has a twelve month low of $86.62 and a twelve month high of $179.38. The firm’s 50 day moving average price is $152.60 and its 200-day moving average price is $131.39.\n",
      "\n",
      "Read Our Latest Research Report on NVDA\n",
      "\n",
      "Teradyne (TER)\n",
      "\n",
      "Teradyne, Inc. designs, develops, manufactures, and sells automated test systems and robotics products worldwide. It operates through four segments; Semiconductor Test, System Test, Robotics, and Wireless Test. The Semiconductor Test segment offers products and services for wafer level and device package testing of semiconductor devices in automotive, industrial, communications, consumer, smartphones, cloud, computer and electronic game, and other applications.\n",
      "\n",
      "Shares of NASDAQ:TER traded up $18.22 during midday trading on Wednesday, reaching $108.77. The company’s stock had a trading volume of 11,854,234 shares, compared to its average volume of 3,370,198. Teradyne has a fifty-two week low of $65.77 and a fifty-two week high of $144.16. The company has a market capitalization of $17.45 billion, a P/E ratio of 30.67, a P/E/G ratio of 4.03 and a beta of 1.70. The business’s fifty day simple moving average is $88.01 and its 200-day simple moving average is $93.37.\n",
      "\n",
      "Read Our Latest Research Report on TER\n",
      "\n",
      "Micron Technology (MU)\n",
      "\n",
      "Micron Technology, Inc. designs, develops, manufactures, and sells memory and storage products worldwide. The company operates through four segments: Compute and Networking Business Unit, Mobile Business Unit, Embedded Business Unit, and Storage Business Unit. It provides memory and storage technologies comprising dynamic random access memory semiconductor devices with low latency that provide high-speed data retrieval; non-volatile and re-writeable semiconductor storage devices; and non-volatile re-writable semiconductor memory devices that provide fast read speeds under the Micron and Crucial brands, as well as through private labels.\n",
      "\n",
      "Shares of MU traded up $1.62 during trading hours on Wednesday, hitting $113.58. 6,711,085 shares of the stock traded hands, compared to its average volume of 23,201,797. The company has a current ratio of 2.75, a quick ratio of 1.89 and a debt-to-equity ratio of 0.30. Micron Technology has a 1-year low of $61.54 and a 1-year high of $129.85. The firm has a market capitalization of $127.11 billion, a PE ratio of 20.44 and a beta of 1.35. The business has a fifty day moving average of $113.47 and a 200-day moving average of $97.72.\n",
      "\n",
      "Read Our Latest Research Report on MU\n",
      "\n",
      "Taiwan Semiconductor Manufacturing (TSM)\n",
      "\n",
      "Taiwan Semiconductor Manufacturing Company Limited, together with its subsidiaries, manufactures, packages, tests, and sells integrated circuits and other semiconductor devices in Taiwan, China, Europe, the Middle East, Africa, Japan, the United States, and internationally. It provides a range of wafer fabrication processes, including processes to manufacture complementary metal- oxide-semiconductor (CMOS) logic, mixed-signal, radio frequency, embedded memory, bipolar CMOS mixed-signal, and others.\n",
      "\n",
      "Shares of TSM traded up $1.99 on Wednesday, reaching $243.32. 3,067,439 shares of the company’s stock were exchanged, compared to its average volume of 15,470,800. The business has a 50 day moving average price of $219.42 and a two-hundred day moving average price of $195.23. Taiwan Semiconductor Manufacturing has a 12 month low of $133.57 and a 12 month high of $248.28. The stock has a market capitalization of $1.26 trillion, a P/E ratio of 27.74, a price-to-earnings-growth ratio of 1.17 and a beta of 1.29. The company has a current ratio of 2.39, a quick ratio of 2.18 and a debt-to-equity ratio of 0.22.\n",
      "\n",
      "Read Our Latest Research Report on TSM\n",
      "\n",
      "Read More\n",
      "[{'url': 'https://economictimes.indiatimes.com/news/international/us/nvidia-stock-price-target-2025-morgan-stanley-just-boosted-nvidias-target-heres-why-blackwell-chips-are-game-changers/articleshow/123044159.cms', 'sentiment': 'positive', 'confidence': 0.9255420225007194, 'summary': 'Morgan Stanley Raises Nvidia Price Target on AI Demand Surge in Second Half of 2018Blackwell GPUs Drive Record Demand Across Enterprise and Cloud MarketsBlackwell Could Represent 80% of Nvidia’s High-End GPU Shipments in Second Half of 2025, as reported by The Street.Blackwell Could Represent 80% of Nvidia’s High-End GPU Shipments in Second Half of 2025, as reported by The Street.Blackwell Could Represent 80% of Nvidia’s High-End GPU Shipments in Second Half of 2025, as reported by The Street.Blackwell Could Represent 80% of Nvidia’s High-End GPU Shipments in Second Half of 2025, as reported by The Street.Blackwell Could Represent 80% of Nvidia’s High-End GPU Shipments in Second Half of 2025, as reported by The Street.Blackwell Could Represent 80% of Nvidia’s High-End GPU Shipments in Second Half of 2025, as reported by The Street.Morgan Stanley has raised its 12-month price target for Nvidia () to, up from $170, reaffirming the chipmaker as its top stock pick in semiconductors, according to the report.\"Exceptional demand\" is how Morgan'}, {'url': 'https://www.etfdailynews.com/2025/08/01/top-automotive-stocks-to-research-july-30th/', 'sentiment': 'positive', 'confidence': 0.8869112432003021, 'summary': ', Inc. designs, develops, manufactures, and sells memory and storage products worldwide. The company operates through four segments: Compute and Networking Business Unit, Mobile Business Unit, Embedded Business Unit, and Storage Business Unit. It provides memory and storage technologies comprising dynamic random access memory semiconductor devices with low latency that provide high-speed data retrieval; non-volatile and re-writeable semiconductor storage devices; and non-volatile re-writable semiconductor memory devices that provide fast read speeds under the Micron and Crucial brands, as well as through private labels.Read Our Latest Research Report on Micron Technology (MU)Apps for PC DailyShares of MU traded up $1.62 during trading hours on Wednesday, hitting $113.58. 6,711,085 shares of the stock traded hands, compared to its average volume of 23,201,797. The company has a current ratio of 2.75, a quick ratio of 1.89 and a debt-to-equity ratio of 0.30. Micron Technology has a 1-year low of $61.54 and a 1-year high of $129.85. The firm has a market capitalization of'}]\n"
     ]
    }
   ],
   "source": [
    "NEWS_API_KEY = \"YourKey\"\n",
    "\n",
    "stock_symbol = input(\"Enter stock symbol: \").strip()\n",
    "\n",
    "limit=2 # Amount of news that will be further analyzed\n",
    "news_links = search_news(stock_symbol, NEWS_API_KEY, limit)\n",
    "\n",
    "print(news_links)\n",
    "\n",
    "if not news_links:\n",
    "    print(\"No articles found.\")\n",
    "    # break\n",
    "\n",
    "analyzer = get_sentiment_analyzer()\n",
    "tokenizer, model = get_summarizer()\n",
    "\n",
    "results = []\n",
    "for url in news_links:\n",
    "    text = extract_article_text(url)\n",
    "    print(text)\n",
    "    if not text or len(text) < 200:\n",
    "        continue\n",
    "\n",
    "    sentiment = analyze_sentiment(text, analyzer)\n",
    "    summary = summarize_with_led(text, tokenizer, model)\n",
    "\n",
    "    results.append({\n",
    "        \"url\": url,\n",
    "        \"sentiment\": sentiment[\"label\"],\n",
    "        \"confidence\": sentiment[\"confidence\"],\n",
    "        \"summary\": summary\n",
    "    })\n",
    "\n",
    "print(results)"
   ]
  }
 ],
 "metadata": {
  "kernelspec": {
   "display_name": "Python 3",
   "language": "python",
   "name": "python3"
  },
  "language_info": {
   "codemirror_mode": {
    "name": "ipython",
    "version": 3
   },
   "file_extension": ".py",
   "mimetype": "text/x-python",
   "name": "python",
   "nbconvert_exporter": "python",
   "pygments_lexer": "ipython3",
   "version": "3.10.11"
  }
 },
 "nbformat": 4,
 "nbformat_minor": 5
}
